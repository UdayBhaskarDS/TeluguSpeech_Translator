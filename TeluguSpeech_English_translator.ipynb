{
 "cells": [
  {
   "cell_type": "code",
   "execution_count": 9,
   "metadata": {},
   "outputs": [
    {
     "name": "stdout",
     "output_type": "stream",
     "text": [
      "Speak:\n",
      "You said ఎలా ఉన్నారు\n",
      "How are you?\n"
     ]
    }
   ],
   "source": [
    "\n",
    "import googletrans\n",
    "from googletrans import Translator\n",
    "\n",
    "def telugu_con(abc):\n",
    "    translator = Translator()\n",
    "    R = translator.translate(abc,src='te',dest ='en')\n",
    "    return print(R.text) \n",
    "#\n",
    "#translator = Translator()\n",
    "#R = translator.translate('ఎలా ఉన్నావ్',src='te',dest ='en')\n",
    "#print(R)\n",
    "#print(R.text)\n",
    "#\n",
    "#print(translator.detect('이 문장은 한글로 쓰여졌습니다.'))\n",
    "\n",
    "import pyaudio\n",
    "import speech_recognition as sr  \n",
    "#p = pyaudio.PyAudio()\n",
    "# for i in range(p.get_device_count()):\n",
    "#     print(p.get_device_info_by_index(i))\n",
    "# sr.__version__\n",
    "\n",
    "# get audio from the microphone                                                                       \n",
    "r = sr.Recognizer()                                                                                   \n",
    "with sr.Microphone() as source:                                                                       \n",
    "    print(\"Speak:\") \n",
    "    r.adjust_for_ambient_noise(source,duration=1)                                                                                  \n",
    "    audio = r.listen(source)   \n",
    "\n",
    "try:\n",
    "    print(\"You said \" + r.recognize_google(audio,language='te'))\n",
    "    telugu_con(r.recognize_google(audio,language='te'))\n",
    "except sr.UnknownValueError:\n",
    "    print(\"Could not understand audio\")\n",
    "except sr.RequestError as e:\n",
    "    print(\"Could not request results; {0}\".format(e))\n",
    "\n",
    "#r.recognize_google(audio,language=’ro-RO’) \n"
   ]
  },
  {
   "cell_type": "code",
   "execution_count": null,
   "metadata": {
    "collapsed": true
   },
   "outputs": [],
   "source": []
  }
 ],
 "metadata": {
  "kernelspec": {
   "display_name": "Python 3",
   "language": "python",
   "name": "python3"
  },
  "language_info": {
   "codemirror_mode": {
    "name": "ipython",
    "version": 3
   },
   "file_extension": ".py",
   "mimetype": "text/x-python",
   "name": "python",
   "nbconvert_exporter": "python",
   "pygments_lexer": "ipython3",
   "version": "3.6.3"
  }
 },
 "nbformat": 4,
 "nbformat_minor": 2
}
